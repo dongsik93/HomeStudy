{
 "cells": [
  {
   "cell_type": "markdown",
   "metadata": {},
   "source": [
    "## 지뢰찾기"
   ]
  },
  {
   "cell_type": "markdown",
   "metadata": {},
   "source": [
    "표준 입력으로 2차원 리스트의 가로(col)와 세로(row)가 입력되고 그 다음 줄부터 리스트의 요소로 들어갈 문자가 입력됩니다. 이때 2차원 리스트 안에서 *는 지뢰이고 .은 지뢰가 아닙니다. 지뢰가 아닌 요소에는 인접한 지뢰의 개수를 출력하는 프로그램을 만드세요(input에서 안내 문자열은 출력하지 않아야 합니다).\n",
    "여러 줄을 입력 받으려면 다음과 같이 for 반복문에서 input을 호출한 뒤 append로 각 줄을 추가하면 됩니다(list 안에 문자열을 넣으면 문자열이 문자 리스트로 변환됩니다).\n",
    "```\n",
    "col, row = map(int,input().split())\n",
    "matrix = []\n",
    "for i in range(row):\n",
    "    matrix.append(list(input()))\n",
    "이 후 코드를 작성해주세요\n",
    "```"
   ]
  },
  {
   "cell_type": "markdown",
   "metadata": {},
   "source": [
    "### 입력\n",
    "```\n",
    "3 3\n",
    ".**\n",
    "*..\n",
    ".*.\n",
    "```"
   ]
  },
  {
   "cell_type": "markdown",
   "metadata": {},
   "source": [
    "### 출력\n",
    "```\n",
    "2**\n",
    "*43\n",
    "2*1\n",
    "```"
   ]
  },
  {
   "cell_type": "code",
   "execution_count": 1,
   "metadata": {},
   "outputs": [
    {
     "name": "stdout",
     "output_type": "stream",
     "text": [
      "3 3\n",
      ".**\n",
      "*..\n",
      ".*.\n",
      "2**\n",
      "*43\n",
      "2*1\n"
     ]
    }
   ],
   "source": [
    "col, row = map(int,input().split())\n",
    "\n",
    "matrix = []\n",
    "for i in range(row):\n",
    "    matrix.append(list(input()))\n",
    "    \n",
    "for m in range(col):\n",
    "    for n in range(row):\n",
    "        count = 0\n",
    "        if(matrix[m][n] == \"*\"):\n",
    "            continue\n",
    "        elif(matrix[m][n] == \".\"):\n",
    "            for a in range(-1,2):\n",
    "                for b in range(-1,2):\n",
    "                    if(m+a < 0) or (n+b < 0) or (m+a > col-1) or (n+b > row-1):\n",
    "                        continue\n",
    "                    if(matrix[m+a][n+b] == \"*\"):\n",
    "                        count += 1\n",
    "        matrix[m][n] = str(count)\n",
    "\n",
    "print(\"\".join(matrix[0]))\n",
    "print(\"\".join(matrix[1]))\n",
    "print(\"\".join(matrix[2]))\n"
   ]
  }
 ],
 "metadata": {
  "kernelspec": {
   "display_name": "Python 3",
   "language": "python",
   "name": "python3"
  },
  "language_info": {
   "codemirror_mode": {
    "name": "ipython",
    "version": 3
   },
   "file_extension": ".py",
   "mimetype": "text/x-python",
   "name": "python",
   "nbconvert_exporter": "python",
   "pygments_lexer": "ipython3",
   "version": "3.6.8"
  }
 },
 "nbformat": 4,
 "nbformat_minor": 2
}
