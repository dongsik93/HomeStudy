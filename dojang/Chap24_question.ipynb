{
 "cells": [
  {
   "cell_type": "markdown",
   "metadata": {},
   "source": [
    "표준 입력으로 문자열이 입력됩니다. 입력된 문자열에서 'the'의 개수를 출력하는 프로그램을 만드세요(input에서 안내 문자열은 출력하지 않아야 합니다). 단, 모든 문자가 소문자인 'the'만 찾으면 되며 'them', 'there', 'their' 등은 포함하지 않아야 합니다."
   ]
  },
  {
   "cell_type": "markdown",
   "metadata": {},
   "source": [
    "입력 :\n",
    "<br> the grown-ups' response, this time, was to advise me to lay aside my drawings of boa constrictors, whether from the inside or the outside, and devote myself instead to geography, history, arithmetic, and grammar. That is why, at the, age of six, I gave up what might have been a magnificent career as a painter. I had been disheartened by the failure of my Drawing Number One and my Drawing Number Two. Grown-ups never understand anything by themselves, and it is tiresome for children to be always and forever explaining things to the."
   ]
  },
  {
   "cell_type": "markdown",
   "metadata": {},
   "source": [
    "결과 : 6"
   ]
  },
  {
   "cell_type": "code",
   "execution_count": 1,
   "metadata": {},
   "outputs": [
    {
     "name": "stdout",
     "output_type": "stream",
     "text": [
      "결과 : 6\n"
     ]
    }
   ],
   "source": [
    "istr = \"the grown-ups' response, this time, was to advise me to lay aside my drawings of boa constrictors, whether from the inside or the outside, and devote myself instead to geography, history, arithmetic, and grammar. That is why, at the, age of six, I gave up what might have been a magnificent career as a painter. I had been disheartened by the failure of my Drawing Number One and my Drawing Number Two. Grown-ups never understand anything by themselves, and it is tiresome for children to be always and forever explaining things to the.\"\n",
    "\n",
    "s_str = istr.split()\n",
    "cnt = 0\n",
    "for i in s_str:\n",
    "    if(i==\"the.\" or i==\"the\" or i==\"the,\"):\n",
    "        cnt+= 1\n",
    "print(f\"결과 : {cnt}\")"
   ]
  },
  {
   "cell_type": "markdown",
   "metadata": {},
   "source": [
    "표준 입력으로 물품 가격 여러 개가 문자열 한 줄로 입력되고, 각 가격은 ;(세미콜론)으로 구분되어 있습니다. 입력된 가격을 높은 가격순으로 출력하는 프로그램을 만드세요(input에서 안내 문자열은 출력하지 않아야 합니다). 이때 가격은 길이를 9로 만든 뒤 오른쪽으로 정렬하고 천단위로 ,(콤마)를 넣으세요"
   ]
  },
  {
   "cell_type": "markdown",
   "metadata": {},
   "source": [
    "입력 :\n",
    "<br>51900;83000;158000;367500;250000;59200;128500;1304000"
   ]
  },
  {
   "cell_type": "markdown",
   "metadata": {},
   "source": [
    "출력:"
   ]
  },
  {
   "cell_type": "markdown",
   "metadata": {},
   "source": [
    "<bf>1,304,000<br>\n",
    "<bf>367,500\n",
    "<br>250,000<br>\n",
    "<bf>158,000<br>\n",
    "<bf>128,500<br>\n",
    "<bf>83,000<br>\n",
    "<bf>59,200<br>\n",
    "<bf>51,900\n",
    "\n"
   ]
  },
  {
   "cell_type": "code",
   "execution_count": 2,
   "metadata": {},
   "outputs": [
    {
     "name": "stdout",
     "output_type": "stream",
     "text": [
      "1,304,000\n",
      "367,500\n",
      "250,000\n",
      "158,000\n",
      "128,500\n",
      "83,000\n",
      "59,200\n",
      "51,900\n"
     ]
    }
   ],
   "source": [
    "ip_data = \"51900;83000;158000;367500;250000;59200;128500;1304000\"\n",
    "\n",
    "sp_data = ip_data.split(\";\")\n",
    "for i in range(len(sp_data)):\n",
    "    sp_data[i] = int(sp_data[i])\n",
    "\n",
    "a = sorted(sp_data)\n",
    "a.reverse()\n",
    "\n",
    "for i in range(len(a)):\n",
    "    print(format(a[i], ','))"
   ]
  }
 ],
 "metadata": {
  "kernelspec": {
   "display_name": "Python 3",
   "language": "python",
   "name": "python3"
  },
  "language_info": {
   "codemirror_mode": {
    "name": "ipython",
    "version": 3
   },
   "file_extension": ".py",
   "mimetype": "text/x-python",
   "name": "python",
   "nbconvert_exporter": "python",
   "pygments_lexer": "ipython3",
   "version": "3.6.8"
  }
 },
 "nbformat": 4,
 "nbformat_minor": 2
}
